{
 "cells": [
  {
   "cell_type": "markdown",
   "metadata": {},
   "source": [
    "# Example Experiment\n",
    "### Sydney Balboni\n",
    "##### This file serves to provide an example for fellow group members. *pretend there is more to this description*"
   ]
  },
  {
   "cell_type": "code",
   "execution_count": null,
   "metadata": {},
   "outputs": [],
   "source": [
    "# This cell does absolutly nothing\n",
    "\n",
    "def do_nothing():\n",
    "'''This function does nothing\n",
    "'''\n",
    "    # Nothing\n",
    "    pass    \n",
    "\n",
    "# Perform absolutely nothing\n",
    "do_nothing()"
   ]
  }
 ],
 "metadata": {
  "kernelspec": {
   "display_name": "Python 3",
   "language": "python",
   "name": "python3"
  },
  "language_info": {
   "name": "python",
   "version": "3.11.4"
  }
 },
 "nbformat": 4,
 "nbformat_minor": 2
}
