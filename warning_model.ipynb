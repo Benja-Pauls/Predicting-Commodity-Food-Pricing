{
 "cells": [
  {
   "cell_type": "markdown",
   "metadata": {},
   "source": [
    "# Warning Model: Predicting FAO Food Security Warnings\n",
    "\n",
    "Utilizing the predictive power of the model developed in `model_experiments.ipynb`, we will now predict when the FAO will issue a food security warning for specific countries. To do this, we have scraped the FAO's food security warnings from their website from 2014-2024 and will use the model to predict when the next warning will be issued for each country.,"
   ]
  }
 ],
 "metadata": {
  "language_info": {
   "name": "python"
  }
 },
 "nbformat": 4,
 "nbformat_minor": 2
}
