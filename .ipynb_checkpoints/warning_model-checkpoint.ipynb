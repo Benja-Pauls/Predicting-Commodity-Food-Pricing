{
 "cells": [
  {
   "cell_type": "markdown",
   "metadata": {},
   "source": [
    "# Warning Model: Predicting FAO Food Security Warnings\n",
    "\n",
    "Utilizing the predictive power for food commodity price of the model developed in `model_experiments.ipynb`, we will now predict when the FAO will issue a food security warning for specific countries. To do this, we have scraped the FAO's food security warnings from their website from 2014-2024 and will use the model to predict when the next warning will be issued for each country.\n",
    "\n",
    "Some challenges to keep in mind are that the model has been trained on specific commodities, rather than specific countries, to reduce overfitting and increase the generalizability of the predictions. However, this approach means that the model may not fully capture the nuances of each country's specific situation regarding food security. Different countries have varying levels of dependency on certain food commodities, and factors such as climate, economic stability, and political situations play a crucial role in food security.\n",
    "\n"
   ]
  }
 ],
 "metadata": {
  "kernelspec": {
   "display_name": "Python 3 (ipykernel)",
   "language": "python",
   "name": "python3"
  },
  "language_info": {
   "codemirror_mode": {
    "name": "ipython",
    "version": 3
   },
   "file_extension": ".py",
   "mimetype": "text/x-python",
   "name": "python",
   "nbconvert_exporter": "python",
   "pygments_lexer": "ipython3",
   "version": "3.10.6"
  }
 },
 "nbformat": 4,
 "nbformat_minor": 2
}
