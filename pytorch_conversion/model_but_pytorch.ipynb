{
 "cells": [
  {
   "cell_type": "markdown",
   "metadata": {},
   "source": [
    "## Imports"
   ]
  },
  {
   "cell_type": "code",
   "execution_count": 3,
   "metadata": {},
   "outputs": [
    {
     "ename": "ModuleNotFoundError",
     "evalue": "No module named 'dtqn'",
     "output_type": "error",
     "traceback": [
      "\u001b[0;31m---------------------------------------------------------------------------\u001b[0m",
      "\u001b[0;31mModuleNotFoundError\u001b[0m                       Traceback (most recent call last)",
      "Cell \u001b[0;32mIn[3], line 13\u001b[0m\n\u001b[1;32m     11\u001b[0m \u001b[38;5;28;01mimport\u001b[39;00m \u001b[38;5;21;01mtorch\u001b[39;00m\u001b[38;5;21;01m.\u001b[39;00m\u001b[38;5;21;01moptim\u001b[39;00m \u001b[38;5;28;01mas\u001b[39;00m \u001b[38;5;21;01moptim\u001b[39;00m\n\u001b[1;32m     12\u001b[0m \u001b[38;5;28;01mimport\u001b[39;00m \u001b[38;5;21;01mtorch\u001b[39;00m\u001b[38;5;21;01m.\u001b[39;00m\u001b[38;5;21;01mnn\u001b[39;00m\u001b[38;5;21;01m.\u001b[39;00m\u001b[38;5;21;01mfunctional\u001b[39;00m \u001b[38;5;28;01mas\u001b[39;00m \u001b[38;5;21;01mF\u001b[39;00m\n\u001b[0;32m---> 13\u001b[0m \u001b[38;5;28;01mimport\u001b[39;00m \u001b[38;5;21;01mdtqn\u001b[39;00m\n",
      "\u001b[0;31mModuleNotFoundError\u001b[0m: No module named 'dtqn'"
     ]
    }
   ],
   "source": [
    "import os\n",
    "import data_loading as dl\n",
    "import time\n",
    "import math\n",
    "import pandas as pd\n",
    "import numpy as np\n",
    "import matplotlib.pyplot as plt\n",
    "from sklearn.model_selection import train_test_split\n",
    "import torch\n",
    "import torch.nn as nn\n",
    "import torch.optim as optim\n",
    "import torch.nn.functional as F\n",
    "import dtqn"
   ]
  },
  {
   "cell_type": "markdown",
   "metadata": {},
   "source": [
    "## Part 1: Loading the Experiment(s) Data\n",
    "Based on the data retrieved from `data_analysis.ipynb`, get that data into a format capable of being used by a Machine Learning model.\n",
    "\n",
    "<span style=\"color: orange;\">**Future Experiment:** Generating multiple months or simply estimating a year in advance.</span>"
   ]
  },
  {
   "cell_type": "code",
   "execution_count": 7,
   "metadata": {},
   "outputs": [
    {
     "name": "stdout",
     "output_type": "stream",
     "text": [
      "Num Features:  9\n"
     ]
    }
   ],
   "source": [
    "MODEL_DATA_DIRECTORY = '../model_data/wheat_model_data/'\n",
    "N_TREND_SAMPLES = 3 # Number of price samples for \"history\" trend (training data)\n",
    "N_MONTHS_AHEAD = 1 # Number of months ahead to predict\n",
    "TEST_SIZE = 0.2\n",
    "OUTPUT_COLUMN_NAME = 'Price'\n",
    "\n",
    "# Get the number of features for this model (given the model_data chosen)\n",
    "sample_file_path = os.path.join(MODEL_DATA_DIRECTORY, os.listdir(MODEL_DATA_DIRECTORY)[0])\n",
    "sample_columns = pd.read_csv(sample_file_path).columns[1:] # Skip 'Unnamed: 0' column\n",
    "num_input_samples = len(sample_columns[2:-1]) + N_TREND_SAMPLES + 1 # +1 for 'n_previous_prices' later\n",
    "print(\"Num Features: \", num_input_samples)"
   ]
  },
  {
   "cell_type": "code",
   "execution_count": 8,
   "metadata": {},
   "outputs": [
    {
     "data": {
      "text/html": [
       "<div>\n",
       "<style scoped>\n",
       "    .dataframe tbody tr th:only-of-type {\n",
       "        vertical-align: middle;\n",
       "    }\n",
       "\n",
       "    .dataframe tbody tr th {\n",
       "        vertical-align: top;\n",
       "    }\n",
       "\n",
       "    .dataframe thead th {\n",
       "        text-align: right;\n",
       "    }\n",
       "</style>\n",
       "<table border=\"1\" class=\"dataframe\">\n",
       "  <thead>\n",
       "    <tr style=\"text-align: right;\">\n",
       "      <th></th>\n",
       "      <th>Date</th>\n",
       "      <th>Price</th>\n",
       "      <th>Proteus2</th>\n",
       "      <th>Food Price Index</th>\n",
       "      <th>Cereals Price Index</th>\n",
       "      <th>Wheat Futures</th>\n",
       "      <th>Harvest</th>\n",
       "      <th>Sentiment</th>\n",
       "      <th>n_previous_prices</th>\n",
       "    </tr>\n",
       "  </thead>\n",
       "  <tbody>\n",
       "    <tr>\n",
       "      <th>0</th>\n",
       "      <td>2007-01-01</td>\n",
       "      <td>0.046246</td>\n",
       "      <td>0.422078</td>\n",
       "      <td>0.163147</td>\n",
       "      <td>0.173796</td>\n",
       "      <td>0.114855</td>\n",
       "      <td>0.518922</td>\n",
       "      <td>-1.0</td>\n",
       "      <td>[0.0087453641651036, 0.028132925355929, 0.0289...</td>\n",
       "    </tr>\n",
       "    <tr>\n",
       "      <th>1</th>\n",
       "      <td>2007-02-01</td>\n",
       "      <td>0.046792</td>\n",
       "      <td>0.431869</td>\n",
       "      <td>0.186610</td>\n",
       "      <td>0.197392</td>\n",
       "      <td>0.121606</td>\n",
       "      <td>0.496694</td>\n",
       "      <td>-1.0</td>\n",
       "      <td>[0.028132925355929, 0.028991632713332, 0.04624...</td>\n",
       "    </tr>\n",
       "    <tr>\n",
       "      <th>2</th>\n",
       "      <td>2007-03-01</td>\n",
       "      <td>0.054520</td>\n",
       "      <td>0.441332</td>\n",
       "      <td>0.202742</td>\n",
       "      <td>0.186601</td>\n",
       "      <td>0.112071</td>\n",
       "      <td>0.477812</td>\n",
       "      <td>-1.0</td>\n",
       "      <td>[0.028991632713332, 0.0462461796096805, 0.0467...</td>\n",
       "    </tr>\n",
       "    <tr>\n",
       "      <th>3</th>\n",
       "      <td>2007-04-01</td>\n",
       "      <td>0.091665</td>\n",
       "      <td>0.452478</td>\n",
       "      <td>0.253851</td>\n",
       "      <td>0.164769</td>\n",
       "      <td>0.114468</td>\n",
       "      <td>0.458201</td>\n",
       "      <td>-1.0</td>\n",
       "      <td>[0.0462461796096805, 0.0467924225287266, 0.054...</td>\n",
       "    </tr>\n",
       "    <tr>\n",
       "      <th>4</th>\n",
       "      <td>2007-05-01</td>\n",
       "      <td>0.166911</td>\n",
       "      <td>0.463914</td>\n",
       "      <td>0.301188</td>\n",
       "      <td>0.182853</td>\n",
       "      <td>0.109691</td>\n",
       "      <td>0.440487</td>\n",
       "      <td>-1.0</td>\n",
       "      <td>[0.0467924225287266, 0.0545198159751901, 0.091...</td>\n",
       "    </tr>\n",
       "    <tr>\n",
       "      <th>...</th>\n",
       "      <td>...</td>\n",
       "      <td>...</td>\n",
       "      <td>...</td>\n",
       "      <td>...</td>\n",
       "      <td>...</td>\n",
       "      <td>...</td>\n",
       "      <td>...</td>\n",
       "      <td>...</td>\n",
       "      <td>...</td>\n",
       "    </tr>\n",
       "    <tr>\n",
       "      <th>882</th>\n",
       "      <td>2016-08-01</td>\n",
       "      <td>0.446023</td>\n",
       "      <td>0.248252</td>\n",
       "      <td>0.541084</td>\n",
       "      <td>0.435392</td>\n",
       "      <td>0.428626</td>\n",
       "      <td>0.302668</td>\n",
       "      <td>1.0</td>\n",
       "      <td>[0.429264668400003, 0.4328423870854326, 0.3831...</td>\n",
       "    </tr>\n",
       "    <tr>\n",
       "      <th>883</th>\n",
       "      <td>2016-09-01</td>\n",
       "      <td>0.472188</td>\n",
       "      <td>0.232688</td>\n",
       "      <td>0.578410</td>\n",
       "      <td>0.417989</td>\n",
       "      <td>0.470033</td>\n",
       "      <td>0.283933</td>\n",
       "      <td>1.0</td>\n",
       "      <td>[0.4328423870854326, 0.3831188765550763, 0.446...</td>\n",
       "    </tr>\n",
       "    <tr>\n",
       "      <th>884</th>\n",
       "      <td>2016-10-01</td>\n",
       "      <td>0.528742</td>\n",
       "      <td>0.217955</td>\n",
       "      <td>0.596911</td>\n",
       "      <td>0.445031</td>\n",
       "      <td>0.513194</td>\n",
       "      <td>0.265419</td>\n",
       "      <td>1.0</td>\n",
       "      <td>[0.3831188765550763, 0.4460234326875648, 0.472...</td>\n",
       "    </tr>\n",
       "    <tr>\n",
       "      <th>885</th>\n",
       "      <td>2016-11-01</td>\n",
       "      <td>0.604214</td>\n",
       "      <td>0.203080</td>\n",
       "      <td>0.614585</td>\n",
       "      <td>0.457697</td>\n",
       "      <td>0.535438</td>\n",
       "      <td>0.245885</td>\n",
       "      <td>1.0</td>\n",
       "      <td>[0.4460234326875648, 0.4721877893582922, 0.528...</td>\n",
       "    </tr>\n",
       "    <tr>\n",
       "      <th>886</th>\n",
       "      <td>2016-12-01</td>\n",
       "      <td>0.648507</td>\n",
       "      <td>0.189033</td>\n",
       "      <td>0.621719</td>\n",
       "      <td>0.482258</td>\n",
       "      <td>0.563554</td>\n",
       "      <td>0.226588</td>\n",
       "      <td>1.0</td>\n",
       "      <td>[0.4721877893582922, 0.5287416041247195, 0.604...</td>\n",
       "    </tr>\n",
       "  </tbody>\n",
       "</table>\n",
       "<p>887 rows × 9 columns</p>\n",
       "</div>"
      ],
      "text/plain": [
       "          Date     Price  Proteus2  Food Price Index  Cereals Price Index  \\\n",
       "0   2007-01-01  0.046246  0.422078          0.163147             0.173796   \n",
       "1   2007-02-01  0.046792  0.431869          0.186610             0.197392   \n",
       "2   2007-03-01  0.054520  0.441332          0.202742             0.186601   \n",
       "3   2007-04-01  0.091665  0.452478          0.253851             0.164769   \n",
       "4   2007-05-01  0.166911  0.463914          0.301188             0.182853   \n",
       "..         ...       ...       ...               ...                  ...   \n",
       "882 2016-08-01  0.446023  0.248252          0.541084             0.435392   \n",
       "883 2016-09-01  0.472188  0.232688          0.578410             0.417989   \n",
       "884 2016-10-01  0.528742  0.217955          0.596911             0.445031   \n",
       "885 2016-11-01  0.604214  0.203080          0.614585             0.457697   \n",
       "886 2016-12-01  0.648507  0.189033          0.621719             0.482258   \n",
       "\n",
       "     Wheat Futures   Harvest  Sentiment  \\\n",
       "0         0.114855  0.518922       -1.0   \n",
       "1         0.121606  0.496694       -1.0   \n",
       "2         0.112071  0.477812       -1.0   \n",
       "3         0.114468  0.458201       -1.0   \n",
       "4         0.109691  0.440487       -1.0   \n",
       "..             ...       ...        ...   \n",
       "882       0.428626  0.302668        1.0   \n",
       "883       0.470033  0.283933        1.0   \n",
       "884       0.513194  0.265419        1.0   \n",
       "885       0.535438  0.245885        1.0   \n",
       "886       0.563554  0.226588        1.0   \n",
       "\n",
       "                                     n_previous_prices  \n",
       "0    [0.0087453641651036, 0.028132925355929, 0.0289...  \n",
       "1    [0.028132925355929, 0.028991632713332, 0.04624...  \n",
       "2    [0.028991632713332, 0.0462461796096805, 0.0467...  \n",
       "3    [0.0462461796096805, 0.0467924225287266, 0.054...  \n",
       "4    [0.0467924225287266, 0.0545198159751901, 0.091...  \n",
       "..                                                 ...  \n",
       "882  [0.429264668400003, 0.4328423870854326, 0.3831...  \n",
       "883  [0.4328423870854326, 0.3831188765550763, 0.446...  \n",
       "884  [0.3831188765550763, 0.4460234326875648, 0.472...  \n",
       "885  [0.4460234326875648, 0.4721877893582922, 0.528...  \n",
       "886  [0.4721877893582922, 0.5287416041247195, 0.604...  \n",
       "\n",
       "[887 rows x 9 columns]"
      ]
     },
     "execution_count": 8,
     "metadata": {},
     "output_type": "execute_result"
    }
   ],
   "source": [
    "model_data = dl.get_model_data_from_directory(MODEL_DATA_DIRECTORY, sample_columns, N_TREND_SAMPLES)\n",
    "model_data"
   ]
  },
  {
   "cell_type": "code",
   "execution_count": 9,
   "metadata": {},
   "outputs": [
    {
     "name": "stdout",
     "output_type": "stream",
     "text": [
      "x_train_tensor shape: torch.Size([709, 9, 1])\n",
      "x_test_tensor shape: torch.Size([178, 9, 1])\n",
      "y_train_tensor shape: torch.Size([709, 1])\n",
      "y_test_tensor shape: torch.Size([178, 1])\n"
     ]
    },
    {
     "name": "stderr",
     "output_type": "stream",
     "text": [
      "/tmp/ipykernel_1850294/1889222699.py:11: UserWarning: To copy construct from a tensor, it is recommended to use sourceTensor.clone().detach() or sourceTensor.clone().detach().requires_grad_(True), rather than torch.tensor(sourceTensor).\n",
      "  x_train_tensor = torch.tensor(x_train_tensor, dtype=torch.float32)\n",
      "/tmp/ipykernel_1850294/1889222699.py:12: UserWarning: To copy construct from a tensor, it is recommended to use sourceTensor.clone().detach() or sourceTensor.clone().detach().requires_grad_(True), rather than torch.tensor(sourceTensor).\n",
      "  y_train_tensor = torch.tensor(y_train_tensor, dtype=torch.float32)\n",
      "/tmp/ipykernel_1850294/1889222699.py:13: UserWarning: To copy construct from a tensor, it is recommended to use sourceTensor.clone().detach() or sourceTensor.clone().detach().requires_grad_(True), rather than torch.tensor(sourceTensor).\n",
      "  x_test_tensor = torch.tensor(x_test_tensor, dtype=torch.float32)\n",
      "/tmp/ipykernel_1850294/1889222699.py:14: UserWarning: To copy construct from a tensor, it is recommended to use sourceTensor.clone().detach() or sourceTensor.clone().detach().requires_grad_(True), rather than torch.tensor(sourceTensor).\n",
      "  y_test_tensor = torch.tensor(y_test_tensor, dtype=torch.float32)\n"
     ]
    }
   ],
   "source": [
    "inputs_and_outputs = model_data.apply(dl.divide_inputs_and_outputs, axis=1)\n",
    "inputs = inputs_and_outputs['inputs'].tolist(); outputs = inputs_and_outputs['output'].tolist()\n",
    "x_train, x_test, y_train, y_test = train_test_split(inputs, outputs, test_size=TEST_SIZE, shuffle=False) # Don't shuffle, should be cohesive samples not seen\n",
    "x_train_tensor, x_test_tensor, y_train_tensor, y_test_tensor, scaler = dl.format_for_ML_usage_torch(inputs, outputs, num_input_samples)\n",
    "\n",
    "print('x_train_tensor shape:', x_train_tensor.shape)\n",
    "print('x_test_tensor shape:', x_test_tensor.shape)\n",
    "print('y_train_tensor shape:', y_train_tensor.shape)\n",
    "print('y_test_tensor shape:', y_test_tensor.shape)\n",
    "\n",
    "x_train_tensor = torch.tensor(x_train_tensor, dtype=torch.float32)\n",
    "y_train_tensor = torch.tensor(y_train_tensor, dtype=torch.float32)\n",
    "x_test_tensor = torch.tensor(x_test_tensor, dtype=torch.float32)\n",
    "y_test_tensor = torch.tensor(y_test_tensor, dtype=torch.float32)\n",
    "\n",
    "train_data = torch.utils.data.TensorDataset(x_train_tensor, y_train_tensor)\n",
    "test_data = torch.utils.data.TensorDataset(x_test_tensor, y_test_tensor)\n"
   ]
  },
  {
   "cell_type": "markdown",
   "metadata": {},
   "source": [
    "## Part 2: Building Complex ML Models"
   ]
  },
  {
   "cell_type": "markdown",
   "metadata": {},
   "source": [
    "### Model 1: Simple, 1-Layer Transformer"
   ]
  },
  {
   "cell_type": "code",
   "execution_count": 10,
   "metadata": {},
   "outputs": [],
   "source": [
    "# Model Architecture\n",
    "HEAD_SIZE = 64\n",
    "NUM_HEADS = 8\n",
    "FF_DIM = 16\n",
    "\n",
    "# ML Optimizer\n",
    "LEARNING_RATE = 1e-3\n",
    "CLIP_VALUE = 0.5 # Gradient Clipping (https://neptune.ai/blog/understanding-gradient-clipping-and-how-it-can-fix-exploding-gradients-problem)\n",
    "DROP_OUT_RATE = 0.2\n",
    "\n",
    "d_model = NUM_HEADS\n",
    "length = x_train_tensor.shape[1]  "
   ]
  },
  {
   "cell_type": "code",
   "execution_count": 11,
   "metadata": {},
   "outputs": [],
   "source": [
    "class PositionalEncoding(nn.Module):\n",
    "    def __init__(self, d_model, max_len=5000):\n",
    "        super(PositionalEncoding, self).__init__()\n",
    "        # Create a long enough positional encoding\n",
    "        pe = torch.zeros(max_len, d_model)\n",
    "        position = torch.arange(0, max_len, dtype=torch.float).unsqueeze(1)\n",
    "        div_term = torch.exp(torch.arange(0, d_model, 2).float() * -(math.log(10000.0) / d_model))\n",
    "        pe[:, 0::2] = torch.sin(position * div_term)\n",
    "        pe[:, 1::2] = torch.cos(position * div_term)\n",
    "        pe = pe.unsqueeze(0).transpose(0, 1)\n",
    "        # Register as a buffer that is not a model parameter\n",
    "        self.register_buffer('pe', pe)\n",
    "\n",
    "    def forward(self, x):\n",
    "        # x is [batch_size, seq_len, feature_size]\n",
    "        # Adjust positional encoding to have the same size as the input\n",
    "        pe = self.pe[:x.size(1), :]  # Shape: [seq_len, d_model]\n",
    "        pe = pe.squeeze(1)  # Remove the singleton dimension\n",
    "        # Ensure pe is expanded to match the batch size of x\n",
    "        pe = pe.unsqueeze(0).repeat(x.size(0), 1, 1)  # Shape: [batch_size, seq_len, d_model]\n",
    "        # The add operation below should now be valid\n",
    "        return x + pe"
   ]
  },
  {
   "cell_type": "code",
   "execution_count": 12,
   "metadata": {},
   "outputs": [],
   "source": [
    "class TransformerBlock(nn.Module):\n",
    "    def __init__(self, d_model, head_size, num_heads, ff_dim, dropout=0):\n",
    "        super(TransformerBlock, self).__init__()\n",
    "        self.attention = nn.MultiheadAttention(embed_dim=d_model, num_heads=num_heads, dropout=dropout)\n",
    "        self.conv1 = nn.Conv1d(in_channels=d_model, out_channels=ff_dim, kernel_size=1)\n",
    "        self.conv2 = nn.Conv1d(in_channels=ff_dim, out_channels=d_model, kernel_size=1)\n",
    "        self.layernorm1 = nn.LayerNorm(d_model)\n",
    "        self.layernorm2 = nn.LayerNorm(d_model)\n",
    "        self.dropout = nn.Dropout(dropout)\n",
    "\n",
    "    def forward(self, query, key, value):\n",
    "        # Note: MultiheadAttention expects input of shape (L, N, E) where L is the sequence length, N is the batch size, and E is the embedding dimension.\n",
    "        attn_output, _ = self.attention(query, key, value)\n",
    "        out1 = self.layernorm1(query + attn_output)\n",
    "        \n",
    "        # Conv1D layers expect input of shape (N, C, L), hence we permute\n",
    "        out1_permuted = out1.permute(1, 2, 0)\n",
    "        ff_output = F.relu(self.conv1(out1_permuted))\n",
    "        ff_output = self.conv2(ff_output)\n",
    "        \n",
    "        # Permute back to match the MultiheadAttention output shape\n",
    "        ff_output = ff_output.permute(2, 0, 1)\n",
    "        out2 = self.layernorm2(out1 + self.dropout(ff_output))\n",
    "        \n",
    "        return out2\n"
   ]
  },
  {
   "cell_type": "code",
   "execution_count": 13,
   "metadata": {},
   "outputs": [],
   "source": [
    "class TransformerModel(nn.Module):\n",
    "    def __init__(self, num_input_samples, d_model, head_size, num_heads, ff_dim, dropout=0, num_transformers=10):\n",
    "        super(TransformerModel, self).__init__()  # Corrected super() call\n",
    "        self.d_model = d_model\n",
    "        self.input_projection = nn.Linear(1, d_model)\n",
    "        self.pos_encoding = PositionalEncoding(d_model, num_input_samples)\n",
    "        self.transformers = nn.ModuleList([\n",
    "            TransformerBlock(d_model, head_size, num_heads, ff_dim, dropout) \n",
    "            for _ in range(num_transformers)\n",
    "        ])\n",
    "        self.global_avg_pooling = nn.AdaptiveAvgPool1d(1)\n",
    "        self.output_layer = nn.Linear(d_model, 1)\n",
    "\n",
    "    def forward(self, x):\n",
    "        x = self.input_projection(x)  # Projects input to d_model dimensions\n",
    "        x = x + self.pos_encoding(x)  # Apply positional encoding\n",
    "\n",
    "        for transformer in self.transformers:\n",
    "            x = transformer(x, x, x)  # Process through transformer blocks\n",
    "\n",
    "        x = x.mean(dim=1, keepdim=True)  # Aggregate features\n",
    "        x = self.output_layer(x)  # Apply the output layer to get the final prediction\n",
    "        \n",
    "        return x"
   ]
  },
  {
   "cell_type": "code",
   "execution_count": 14,
   "metadata": {},
   "outputs": [],
   "source": [
    "# Define the model, loss function, and optimizer\n",
    "model = TransformerModel(num_input_samples, d_model=d_model, head_size=HEAD_SIZE, num_heads=NUM_HEADS, ff_dim=FF_DIM, dropout=DROP_OUT_RATE)\n",
    "criterion = nn.L1Loss()\n",
    "optimizer = optim.Adam(model.parameters(), lr=LEARNING_RATE)"
   ]
  },
  {
   "cell_type": "markdown",
   "metadata": {},
   "source": [
    "## Part 3: Training the Model\n",
    "This section is specifically for training the model built in the previous section. Some contants (`NUM_EPOCHS`, `BATCH_SIZE`) are provided and should be the only required parameters to adjust for this section of the experiment. \n",
    "\n",
    "A plot of the loss throughout the training process is provided for easy understanding about if the model is overfitting or underfitting. For a review of these concepts, see [this article](https://www.analyticsfordecisions.com/overfitting-and-underfitting/#:~:text=Overfitting%20happens%20when%20the%20model%20is%20too%20complex,poor%20performance%20on%20both%20training%20and%20test%20datasets.).\n",
    "<br/><br/>\n",
    "**Potential Future Parameters**\n",
    "* **Regularization:** L1, L2, Dropout; helps prevent overfitting"
   ]
  },
  {
   "cell_type": "code",
   "execution_count": 15,
   "metadata": {},
   "outputs": [],
   "source": [
    "# def learning_rate_scheduler(epoch, lr):\n",
    "#     \"\"\"\n",
    "#     Learning rate scheduler\n",
    "#     :param int epoch: current epoch\n",
    "#     :param float lr: current learning rate\n",
    "#     \"\"\"\n",
    "#     if epoch < 15:\n",
    "#         return lr\n",
    "#     else:\n",
    "#         return lr * tf.math.exp(-0.1)\n",
    "    \n",
    "# callback = LearningRateScheduler(learning_rate_scheduler)"
   ]
  },
  {
   "cell_type": "code",
   "execution_count": 16,
   "metadata": {},
   "outputs": [],
   "source": [
    "NUM_EPOCHS = 20\n",
    "BATCH_SIZE = 3 # Fiscal Quarters\n",
    "\n",
    "train_loader = torch.utils.data.DataLoader(train_data, batch_size=BATCH_SIZE, shuffle=False)"
   ]
  },
  {
   "cell_type": "code",
   "execution_count": 17,
   "metadata": {},
   "outputs": [
    {
     "name": "stdout",
     "output_type": "stream",
     "text": [
      "| epoch   1 | train_loss  0.58 |\n",
      "| epoch   2 | train_loss  0.55 |\n",
      "| epoch   3 | train_loss  0.54 |\n",
      "| epoch   4 | train_loss  0.51 |\n",
      "| epoch   5 | train_loss  0.50 |\n",
      "| epoch   6 | train_loss  0.51 |\n",
      "| epoch   7 | train_loss  0.51 |\n",
      "| epoch   8 | train_loss  0.50 |\n",
      "| epoch   9 | train_loss  0.51 |\n",
      "| epoch  10 | train_loss  0.50 |\n",
      "| epoch  11 | train_loss  0.51 |\n",
      "| epoch  12 | train_loss  0.50 |\n",
      "| epoch  13 | train_loss  0.49 |\n",
      "| epoch  14 | train_loss  0.50 |\n",
      "| epoch  15 | train_loss  0.49 |\n",
      "| epoch  16 | train_loss  0.49 |\n",
      "| epoch  17 | train_loss  0.50 |\n",
      "| epoch  18 | train_loss  0.49 |\n",
      "| epoch  19 | train_loss  0.49 |\n",
      "| epoch  20 | train_loss  0.49 |\n"
     ]
    }
   ],
   "source": [
    "def train(model, data_loader, optimizer, criterion):\n",
    "    model.train()  # Set the model to training mode\n",
    "    total_loss = 0.\n",
    "    for batch, (input, target) in enumerate(data_loader):\n",
    "        optimizer.zero_grad()\n",
    "        output = model(input)\n",
    "        output = output.reshape(-1)\n",
    "        target = target.reshape(-1)\n",
    "        loss = criterion(output, target)\n",
    "        loss.backward()\n",
    "        optimizer.step()\n",
    "        total_loss += loss.item()\n",
    "    return total_loss / len(data_loader)\n",
    "\n",
    "# Example data loading and training loop\n",
    "# Assuming data_loader is defined and loads your dataset\n",
    "train_loss = []\n",
    "for epoch in range(1, NUM_EPOCHS + 1):\n",
    "    epoch_start_time = time.time()\n",
    "    train_loss.append(train(model, train_loader, optimizer, criterion))\n",
    "    print(f'| epoch {epoch:3d} | train_loss {train_loss[-1]:5.2f} |')\n"
   ]
  },
  {
   "cell_type": "code",
   "execution_count": 18,
   "metadata": {},
   "outputs": [
    {
     "data": {
      "image/png": "[encoded data removed]",
      "text/plain": [
       "<Figure size 640x480 with 1 Axes>"
      ]
     },
     "metadata": {},
     "output_type": "display_data"
    }
   ],
   "source": [
    "# Plot the loss over time\n",
    "plt.plot(train_loss)\n",
    "plt.title('Training Loss')\n",
    "plt.xlabel('Epoch')\n",
    "plt.ylabel('Loss')\n",
    "plt.show()"
   ]
  },
  {
   "cell_type": "markdown",
   "metadata": {},
   "source": [
    "## Part 4: Examining Results\n",
    "In this section, we're plotting the model's predictions versus the actual price point for the commodity in question. However, one plot focuses specifically on the testing data only (this is a better plot to see how well the model is performing/generalizing) and the other focuses on the entire dataset (this is a better plot to see if the model is correlating to the provided dataset at all).\n",
    "\n",
    "Therefore, when **evaluating the performance** of the model, **the first plot should be used.** "
   ]
  },
  {
   "cell_type": "code",
   "execution_count": 19,
   "metadata": {},
   "outputs": [
    {
     "data": {
      "image/png": "[encoded data removed]",
      "text/plain": [
       "<Figure size 640x480 with 1 Axes>"
      ]
     },
     "metadata": {},
     "output_type": "display_data"
    },
    {
     "name": "stdout",
     "output_type": "stream",
     "text": [
      "Mean Absolute Error (FINAL ACCURACY METRIC): 0.46601914486907764\n"
     ]
    }
   ],
   "source": [
    "# Ensure the model is in evaluation mode\n",
    "from sklearn.metrics import mean_absolute_error\n",
    "\n",
    "\n",
    "model.eval()\n",
    "\n",
    "# Turn off gradients for validation, saves memory and computations\n",
    "with torch.no_grad():\n",
    "    predictions = model(x_test_tensor)\n",
    "    \n",
    "predictions = predictions.reshape(-1)\n",
    "plt.plot(y_test, label='Actual')\n",
    "plt.plot(predictions, label='Predicted')\n",
    "plt.title('Model Predictions (Testing Data Only)')\n",
    "plt.ylabel('Price')\n",
    "plt.xlabel('Months')\n",
    "plt.legend()\n",
    "plt.show()\n",
    "\n",
    "# Calculate the Mean Absolute Error\n",
    "final_mae = mean_absolute_error(y_test, predictions)\n",
    "print('Mean Absolute Error (FINAL ACCURACY METRIC):', final_mae)"
   ]
  },
  {
   "cell_type": "code",
   "execution_count": 20,
   "metadata": {},
   "outputs": [
    {
     "ename": "AttributeError",
     "evalue": "'TransformerModel' object has no attribute 'save'",
     "output_type": "error",
     "traceback": [
      "\u001b[0;31m---------------------------------------------------------------------------\u001b[0m",
      "\u001b[0;31mAttributeError\u001b[0m                            Traceback (most recent call last)",
      "Cell \u001b[0;32mIn[20], line 2\u001b[0m\n\u001b[1;32m      1\u001b[0m \u001b[38;5;66;03m# Save the model to saved_models\u001b[39;00m\n\u001b[0;32m----> 2\u001b[0m \u001b[43mmodel\u001b[49m\u001b[38;5;241;43m.\u001b[39;49m\u001b[43msave\u001b[49m(\u001b[38;5;124mf\u001b[39m\u001b[38;5;124m'\u001b[39m\u001b[38;5;124msaved_models/wheat_price_transformer_model_\u001b[39m\u001b[38;5;132;01m{\u001b[39;00mfinal_mae\u001b[38;5;132;01m}\u001b[39;00m\u001b[38;5;124m.h5\u001b[39m\u001b[38;5;124m'\u001b[39m)\n",
      "File \u001b[0;32m~/.local/lib/python3.10/site-packages/torch/nn/modules/module.py:1688\u001b[0m, in \u001b[0;36mModule.__getattr__\u001b[0;34m(self, name)\u001b[0m\n\u001b[1;32m   1686\u001b[0m     \u001b[38;5;28;01mif\u001b[39;00m name \u001b[38;5;129;01min\u001b[39;00m modules:\n\u001b[1;32m   1687\u001b[0m         \u001b[38;5;28;01mreturn\u001b[39;00m modules[name]\n\u001b[0;32m-> 1688\u001b[0m \u001b[38;5;28;01mraise\u001b[39;00m \u001b[38;5;167;01mAttributeError\u001b[39;00m(\u001b[38;5;124mf\u001b[39m\u001b[38;5;124m\"\u001b[39m\u001b[38;5;124m'\u001b[39m\u001b[38;5;132;01m{\u001b[39;00m\u001b[38;5;28mtype\u001b[39m(\u001b[38;5;28mself\u001b[39m)\u001b[38;5;241m.\u001b[39m\u001b[38;5;18m__name__\u001b[39m\u001b[38;5;132;01m}\u001b[39;00m\u001b[38;5;124m'\u001b[39m\u001b[38;5;124m object has no attribute \u001b[39m\u001b[38;5;124m'\u001b[39m\u001b[38;5;132;01m{\u001b[39;00mname\u001b[38;5;132;01m}\u001b[39;00m\u001b[38;5;124m'\u001b[39m\u001b[38;5;124m\"\u001b[39m)\n",
      "\u001b[0;31mAttributeError\u001b[0m: 'TransformerModel' object has no attribute 'save'"
     ]
    }
   ],
   "source": [
    "# Save the model to saved_models\n",
    "model.save(f'saved_models/wheat_price_transformer_model_{final_mae}.h5')"
   ]
  },
  {
   "cell_type": "markdown",
   "metadata": {},
   "source": [
    "# DTQN"
   ]
  },
  {
   "cell_type": "code",
   "execution_count": null,
   "metadata": {},
   "outputs": [],
   "source": []
  }
 ],
 "metadata": {
  "kernelspec": {
   "display_name": "Python 3 (ipykernel)",
   "language": "python",
   "name": "python3"
  },
  "language_info": {
   "codemirror_mode": {
    "name": "ipython",
    "version": 3
   },
   "file_extension": ".py",
   "mimetype": "text/x-python",
   "name": "python",
   "nbconvert_exporter": "python",
   "pygments_lexer": "ipython3",
   "version": "3.10.6"
  }
 },
 "nbformat": 4,
 "nbformat_minor": 2
}
